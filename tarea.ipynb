{
 "cells": [
  {
   "cell_type": "markdown",
   "metadata": {},
   "source": [
    "Definimos la clase nodo, que contendrá la información básica que requiere este modelo"
   ]
  },
  {
   "cell_type": "code",
   "execution_count": 34,
   "metadata": {},
   "outputs": [],
   "source": [
    "class Node:\n",
    "    def __init__(self, pos_x: int, pos_y: int, cost: int, parent=None) -> None:\n",
    "        self.pos_x: int = pos_x\n",
    "        self.pos_y: int = pos_y\n",
    "        self.cost: int = cost\n",
    "        self.parent = parent"
   ]
  },
  {
   "cell_type": "markdown",
   "metadata": {},
   "source": [
    "Definimos la función Manhattan para calcular distancias entre dos nodos"
   ]
  },
  {
   "cell_type": "code",
   "execution_count": 35,
   "metadata": {},
   "outputs": [],
   "source": [
    "\n",
    "def manhattan(current: Node, next: Node):\n",
    "    return abs(current.pos_x - next.pos_x) + abs(current.pos_y - next.pos_y)"
   ]
  },
  {
   "cell_type": "markdown",
   "metadata": {},
   "source": [
    "La función: `{python} get_children(node: Node, map: list[list[int]]) -> list[Node]` retorna una lista de nodos hijos, calculados a partir de la posición (x, y) del nodo que recibe como parámetro y evaluando la validez de las posiciónes circundantes a este.\n"
   ]
  },
  {
   "cell_type": "code",
   "execution_count": 36,
   "metadata": {},
   "outputs": [],
   "source": [
    "def get_children(node: Node, map: list[list[int]]) -> list[Node]:\n",
    "    neighbors = []\n",
    "    directions = [\n",
    "        (-1, 0),\n",
    "        (1, 0),\n",
    "        (0, -1),\n",
    "        (0, 1),\n",
    "    ]\n",
    "\n",
    "    for offset_x, offset_y in directions:\n",
    "        pos_x, pos_y = node.pos_x + offset_x, node.pos_y + offset_y\n",
    "        if (\n",
    "            0 <= pos_x < len(map)\n",
    "            and 0 <= pos_y < len(map[0])\n",
    "            and map[pos_x][pos_y] == 0\n",
    "        ):\n",
    "            neighbor: Node = Node(pos_x, pos_y, 0, node)\n",
    "            neighbor.cost = node.cost + 1\n",
    "            neighbors.append(neighbor)\n",
    "\n",
    "    return neighbors"
   ]
  },
  {
   "cell_type": "markdown",
   "metadata": {},
   "source": [
    "Creamos la función de búsqueda que recibe los dos nodos y el mapa (matríz de 0's y 1's)\n",
    "\n",
    "Esta función crea una lista con los nodos por vistar y un set de tuplas (estructura de datos que no permite duplicados).\n",
    "\n",
    "Cada iteración se realizan lo siguientes pasos:\n",
    "\n",
    "1. ordena la lista de nodos de mayor a menor costo.\n",
    "2. obtiene el nodo de menor costo.\n",
    "3. evalua si el la posición del nodo actual coincide con el que buscamos:\n",
    "    a. En caso de coincidir con el nodo buscado, se agrega la tupla de su posición  a una lista de salida.\n",
    "    b. se obtiene el nodo padre del nodo actual para la siguiente iteración.\n",
    "    c. el ciclo se rompe al encontrár el nodo origen ya que este no tendrá definido un \"padre\".\n",
    "    d. se retorna la lista con las coordenadas obtenidas para el camino del punto origen al destino.\n",
    "4. se agrega el nodo actual en el set de visitados.\n",
    "5. con base en el nodo actual, se calculan los nodos hijos (arriba, abajo, izquierda y derecha)\n",
    "5. al recorrer cada nodo hijo, evaluamos si ya lo hemos visitado anteriormente\n",
    "6. en caso de no haber visitado aún el nodo y si tiene un costo menor al costo definido por la heurística manhattan entre el origen y el destino, se añade el nodo a la lista \"por visitar\"\n",
    "7. En caso de no encontrar un camino posible, se retorna una lista vacía."
   ]
  },
  {
   "cell_type": "code",
   "execution_count": 37,
   "metadata": {},
   "outputs": [],
   "source": [
    "def search_path(start: Node, goal: Node, map: list[list[int]]):\n",
    "    to_be_visited = [start]\n",
    "    visited = set()\n",
    "\n",
    "    while to_be_visited:\n",
    "        to_be_visited.sort(key=lambda x: x.cost, reverse=True)\n",
    "        current = to_be_visited.pop()\n",
    "\n",
    "        if current.pos_x == goal.pos_x and current.pos_y == goal.pos_y:\n",
    "            path = []\n",
    "            while current:\n",
    "                path.append((current.pos_x, current.pos_y))\n",
    "                current = current.parent\n",
    "            return path[::-1]\n",
    "\n",
    "        visited.add((current.pos_x, current.pos_y))\n",
    "\n",
    "        for child in get_children(current, map):\n",
    "            if (child.pos_x, child.pos_y) in visited:\n",
    "                continue\n",
    "\n",
    "            if child.cost <= goal.cost:\n",
    "                to_be_visited.append(child)\n",
    "\n",
    "    return []"
   ]
  },
  {
   "cell_type": "markdown",
   "metadata": {},
   "source": [
    "La función \"move\", recibe el nodo robot, el nodo paquete, el nodo meta del paquete y el mapa (matríz de 0's y 1's) realiza los pasos siguientes:\n",
    "\n",
    "1. Calcula la función manhattan entre el robot y el paquete.\n",
    "2. Obtiene la lista de coordenadas a seguir para alcanzar el paquete e imprime la ruta.\n",
    "3. Calcula la función manhattan entre el paquete y el destino reiniciando el costo del paquete a 0 ya que este es nuestro nuevo punto de partida.\n",
    "4. Obtiene la lista de coordenadas a seguir para alcanzar la meta e imprime la ruta."
   ]
  },
  {
   "cell_type": "code",
   "execution_count": 39,
   "metadata": {},
   "outputs": [],
   "source": [
    "def move(robot: Node, package: Node, goal: Node, map: list[list[int]], number: int):\n",
    "    package.cost = manhattan(robot, package)\n",
    "    for x, y in search_path(robot, package, map):\n",
    "        print(\"mover R fila {}, columna {}\".format(x, y))\n",
    "\n",
    "    package.cost = 0\n",
    "    goal.cost = manhattan(package, goal)\n",
    "    for x, y in search_path(package, goal, map):\n",
    "        print(\"cargar R M{} fila {}, columna {}\".format(number, x, y))\n",
    "    print(\"\")\n"
   ]
  },
  {
   "cell_type": "markdown",
   "metadata": {},
   "source": [
    "Por último definimos nuestra función \"main\" en donde inicializamos nuestro mapa, creamos nuestro nodo de posición para el robot, la lista de nodos de los paquetes y la lista de las metas.\n",
    "\n",
    "A continuación iteramos los paquetes y las metas para calcular la ruta robot - paquete, paquete - meta y al finalizar reiniciamos la posición del robor en (2,2)\n"
   ]
  },
  {
   "cell_type": "code",
   "execution_count": 40,
   "metadata": {},
   "outputs": [
    {
     "name": "stdout",
     "output_type": "stream",
     "text": [
      "mover R fila 2, columna 2\n",
      "mover R fila 2, columna 1\n",
      "mover R fila 2, columna 0\n",
      "mover R fila 1, columna 0\n",
      "mover R fila 0, columna 0\n",
      "cargar R M1 fila 0, columna 0\n",
      "cargar R M1 fila 1, columna 0\n",
      "cargar R M1 fila 2, columna 0\n",
      "cargar R M1 fila 3, columna 0\n",
      "cargar R M1 fila 3, columna 1\n",
      "cargar R M1 fila 3, columna 2\n",
      "cargar R M1 fila 3, columna 3\n",
      "\n",
      "mover R fila 2, columna 2\n",
      "mover R fila 2, columna 1\n",
      "mover R fila 2, columna 0\n",
      "cargar R M2 fila 2, columna 0\n",
      "cargar R M2 fila 2, columna 1\n",
      "cargar R M2 fila 3, columna 1\n",
      "cargar R M2 fila 3, columna 2\n",
      "\n",
      "mover R fila 2, columna 2\n",
      "mover R fila 2, columna 3\n",
      "mover R fila 1, columna 3\n",
      "mover R fila 0, columna 3\n",
      "cargar R M3 fila 0, columna 3\n",
      "cargar R M3 fila 0, columna 2\n",
      "cargar R M3 fila 1, columna 2\n",
      "cargar R M3 fila 2, columna 2\n",
      "cargar R M3 fila 3, columna 2\n",
      "cargar R M3 fila 3, columna 1\n",
      "\n"
     ]
    }
   ],
   "source": [
    "\n",
    "\n",
    "def main():\n",
    "    map: list[tuple[int]] = [\n",
    "        (0, 1, 0, 0), \n",
    "        (0, 1, 0, 0), \n",
    "        (0, 0, 0, 0), \n",
    "        (0, 0, 0, 0)\n",
    "        ]\n",
    "\n",
    "    robot: Node = Node(2, 2, 0)\n",
    "    packages: list[Node] = [Node(0, 0, 0), Node(2, 0, 0), Node(0, 3, 0)]\n",
    "    goals: list[None] = [Node(3, 3, 0), Node(3, 2, 0), Node(3, 1, 0)]\n",
    "\n",
    "    for i in range(len(packages)):\n",
    "        move(robot, packages[i], goals[i], map, i + 1)\n",
    "        robot.pos_x = 2\n",
    "        robot.pos_y = 2\n",
    "\n",
    "\n",
    "main()"
   ]
  }
 ],
 "metadata": {
  "kernelspec": {
   "display_name": "venv",
   "language": "python",
   "name": "python3"
  },
  "language_info": {
   "codemirror_mode": {
    "name": "ipython",
    "version": 3
   },
   "file_extension": ".py",
   "mimetype": "text/x-python",
   "name": "python",
   "nbconvert_exporter": "python",
   "pygments_lexer": "ipython3",
   "version": "3.11.2"
  }
 },
 "nbformat": 4,
 "nbformat_minor": 2
}
